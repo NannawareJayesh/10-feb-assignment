{
 "cells": [
  {
   "cell_type": "markdown",
   "id": "047e47ad-10ba-4e73-90a9-1bb3ca2e3195",
   "metadata": {},
   "source": [
    "## 10 Feb Assignment"
   ]
  },
  {
   "cell_type": "markdown",
   "id": "5a79e4d3-84bb-46b4-88f5-20c143bab515",
   "metadata": {},
   "source": [
    "Q1. Which function is used to open a file? What are the different modes of opening a file? Explain each mode\n",
    "of file opening."
   ]
  },
  {
   "cell_type": "markdown",
   "id": "e49fed6c-0666-48ba-bf8b-563d67fceb7b",
   "metadata": {},
   "source": [
    "In Python, the built-in open() function is used to open a file. It takes two arguments: the first argument is the name of the file, and the second argument is the mode in which the file should be opened.\n",
    "\n",
    "Here are the different modes of file opening in Python:\n",
    "\n",
    "    r: Read mode. This is the default mode. It is used to read the contents of a file. If the file does not exist, it will raise a FileNotFoundError exception.\n",
    "    w: Write mode. It is used to write the contents to a file. If the file exists, it will truncate the file to zero-length. If the file does not exist, it will create a new file.\n",
    "    a: Append mode. It is used to append the contents to an existing file. If the file does not exist, it will create a new file.\n",
    "    x: Exclusive mode. It is used to create a new file, but it will raise a FileExistsError exception if the file already exists.\n",
    "    b: Binary mode. It is used to read or write a file in binary mode. This is useful when dealing with non-text files like images, audio, video, etc.\n",
    "    t: Text mode. It is used to read or write a file in text mode. This is the default mode."
   ]
  },
  {
   "cell_type": "markdown",
   "id": "70431924-8761-4d4a-bd07-d7191129165f",
   "metadata": {},
   "source": [
    "Q2. Why close() function is used? Why is it important to close a file?"
   ]
  },
  {
   "cell_type": "markdown",
   "id": "f8740561-d31e-4a41-9cbf-f9576af466d0",
   "metadata": {},
   "source": [
    "The close() function in Python is used to close an opened file. It is important to close a file after opening it because if a file is left open, it can cause problems with other programs or processes that may need to access the file.\n",
    "\n",
    "When a file is opened, the operating system reserves certain resources for it, such as memory and disk space. If a program opens a large number of files and doesn't close them properly, it can lead to resource leaks and even crash the program or the operating system.\n",
    "\n",
    "Closing a file frees up the resources that were being used by the file, so that they can be used by other programs or processes. It also ensures that any changes made to the file are written to disk before the file is closed.\n",
    "\n",
    "If you don't close a file, any changes made to the file may not be saved, and the file may become corrupted or unreadable. In addition, leaving a file open can prevent other programs or processes from accessing the file, which can cause issues in a multi-user environment."
   ]
  },
  {
   "cell_type": "markdown",
   "id": "ef78b39f-f178-4ada-9d21-989b7b534e27",
   "metadata": {},
   "source": [
    "Q3. Write a python program to create a text file. Write ‘I want to become a Data Scientist’ in that file. Then\n",
    "close the file. Open this file and read the content of the file."
   ]
  },
  {
   "cell_type": "code",
   "execution_count": 1,
   "id": "24d31171-0da7-4aa8-bf82-ae1c39b8b3f9",
   "metadata": {},
   "outputs": [
    {
     "name": "stdout",
     "output_type": "stream",
     "text": [
      "I want to become a Data Scientist\n"
     ]
    }
   ],
   "source": [
    "# Open the file in write mode\n",
    "file = open(\"my_file.txt\", \"w\")\n",
    "\n",
    "# Write some text to the file\n",
    "file.write(\"I want to become a Data Scientist\")\n",
    "\n",
    "# Close the file\n",
    "file.close()\n",
    "\n",
    "# Open the file in read mode\n",
    "file = open(\"my_file.txt\", \"r\")\n",
    "\n",
    "# Read the contents of the file\n",
    "contents = file.read()\n",
    "\n",
    "# Print the contents of the file\n",
    "print(contents)\n",
    "\n",
    "# Close the file\n",
    "file.close()\n"
   ]
  },
  {
   "cell_type": "markdown",
   "id": "c7c9d543-a37e-4f41-b399-2006c432f9f8",
   "metadata": {},
   "source": [
    "Q4. Explain the following with python code: read(), readline() and readlines()."
   ]
  },
  {
   "cell_type": "markdown",
   "id": "37f31ccf-974f-4810-bc49-3d76f02d8b97",
   "metadata": {},
   "source": [
    "In Python, there are different methods to read the contents of a file. The most commonly used methods are read(), readline(), and readlines(). Here's an explanation of each method along with some Python code examples:"
   ]
  },
  {
   "cell_type": "markdown",
   "id": "b6cc2f01-ffa9-40a1-bfd3-8e8de46bfcb9",
   "metadata": {},
   "source": [
    "read(): This method reads the entire contents of the file and returns it as a single string.\n"
   ]
  },
  {
   "cell_type": "code",
   "execution_count": 13,
   "id": "024e883b-47cb-4b27-badb-86340ea965d7",
   "metadata": {},
   "outputs": [
    {
     "name": "stdout",
     "output_type": "stream",
     "text": [
      "I want to become a Data Scientist\n",
      "Csk will win 2023 IPL title\n",
      "RR will be the runnurup\n"
     ]
    }
   ],
   "source": [
    "# Open the file in read mode\n",
    "file = open(\"my_file.txt\", \"r\")\n",
    "\n",
    "# Read the entire contents of the file\n",
    "contents = file.read()\n",
    "\n",
    "# Print the contents of the file\n",
    "print(contents)\n",
    "\n",
    "# Close the file\n",
    "file.close()\n",
    "\n"
   ]
  },
  {
   "cell_type": "markdown",
   "id": "0e2c54e4-b6e5-4a70-9e11-9eace0569d47",
   "metadata": {},
   "source": [
    "readline(): This method reads a single line of the file and returns it as a string. If called again, it will return the next line in the file."
   ]
  },
  {
   "cell_type": "code",
   "execution_count": 14,
   "id": "d89749d0-58a9-4392-8b08-a424a2a4585a",
   "metadata": {},
   "outputs": [
    {
     "name": "stdout",
     "output_type": "stream",
     "text": [
      "I want to become a Data Scientist\n",
      "\n",
      "Csk will win 2023 IPL title\n",
      "\n"
     ]
    }
   ],
   "source": [
    "# Open the file in read mode\n",
    "file = open(\"my_file.txt\", \"r\")\n",
    "\n",
    "# Read the first line of the file\n",
    "line1 = file.readline()\n",
    "\n",
    "# Read the second line of the file\n",
    "line2 = file.readline()\n",
    "\n",
    "# Print the first and second lines of the file\n",
    "print(line1)\n",
    "print(line2)\n",
    "\n",
    "# Close the file\n",
    "file.close()\n"
   ]
  },
  {
   "cell_type": "markdown",
   "id": "e6d62ec0-3b22-4b8f-8f3b-0f3606b5fe6b",
   "metadata": {},
   "source": [
    "readlines(): This method reads all the lines of the file and returns them as a list of strings, with each string representing a single line."
   ]
  },
  {
   "cell_type": "code",
   "execution_count": 15,
   "id": "612d7436-bc73-47a0-a753-9d39e8841c7d",
   "metadata": {},
   "outputs": [
    {
     "name": "stdout",
     "output_type": "stream",
     "text": [
      "I want to become a Data Scientist\n",
      "\n",
      "Csk will win 2023 IPL title\n",
      "\n",
      "RR will be the runnurup\n"
     ]
    }
   ],
   "source": [
    "# Open the file in read mode\n",
    "file = open(\"my_file.txt\", \"r\")\n",
    "\n",
    "# Read all the lines of the file\n",
    "lines = file.readlines()\n",
    "\n",
    "# Print each line of the file\n",
    "for line in lines:\n",
    "    print(line)\n",
    "\n",
    "# Close the file\n",
    "file.close()\n"
   ]
  },
  {
   "cell_type": "markdown",
   "id": "5a460b45-c330-4872-81ba-ff8b5b5bceae",
   "metadata": {},
   "source": [
    "Q5. Explain why with statement is used with open(). What is the advantage of using with statement and\n",
    "open() together?"
   ]
  },
  {
   "cell_type": "markdown",
   "id": "26e267e2-8883-4ef1-9334-f50b0a86c69f",
   "metadata": {},
   "source": [
    "In Python, the with statement is used in conjunction with the open() function to ensure that a file is properly opened and closed. The with statement simplifies the code by taking care of the closing process of the file automatically.\n",
    "\n",
    "When a file is opened using the open() function, it's important to close the file when you're done with it. If the file is not closed properly, it can lead to data corruption or memory leaks. The with statement ensures that the file is closed automatically when the block inside the with statement is exited, even if an error occurs."
   ]
  },
  {
   "cell_type": "markdown",
   "id": "c70ba944-52bf-42b2-b432-c17973992ae0",
   "metadata": {},
   "source": [
    "Q6. Explain the write() and writelines() functions. Give a suitable example."
   ]
  },
  {
   "cell_type": "markdown",
   "id": "7f2e9fb4-814a-4f99-8480-1d6f398826d7",
   "metadata": {},
   "source": [
    "The write() function is used to write a single string to a file. If the file does not exist, it will be created. If the file already exists, the write() function will overwrite the existing contents of the file."
   ]
  },
  {
   "cell_type": "code",
   "execution_count": 17,
   "id": "dae34c05-8b29-4b36-90ed-6fe25417a6bf",
   "metadata": {},
   "outputs": [],
   "source": [
    "# Open a file for writing\n",
    "with open('example.txt', 'w') as f:\n",
    "    # Write a string to the file\n",
    "    f.write('Hello, world!\\n')\n"
   ]
  },
  {
   "cell_type": "markdown",
   "id": "b1c38f6a-3a67-4aa9-a262-e2d9d2add342",
   "metadata": {},
   "source": [
    "The writelines() function, on the other hand, is used to write a list of strings to a file. Each string in the list is written to a separate line in the file. If the file does not exist, it will be created. If the file already exists, the writelines() function will overwrite the existing contents of the file."
   ]
  },
  {
   "cell_type": "code",
   "execution_count": 18,
   "id": "23f1a802-d6ba-4837-b19f-6a1433a9f08f",
   "metadata": {},
   "outputs": [],
   "source": [
    "# Open a file for writing\n",
    "with open('example.txt', 'w') as f:\n",
    "    # Write a list of strings to the file\n",
    "    f.writelines(['Hello\\n', 'world\\n', '!\\n'])\n"
   ]
  },
  {
   "cell_type": "code",
   "execution_count": 20,
   "id": "de257b4c-0bc2-4a00-b7a7-f79cfa268c8c",
   "metadata": {},
   "outputs": [],
   "source": [
    "file1 = open(\"example.txt\", \"r\")\n"
   ]
  },
  {
   "cell_type": "code",
   "execution_count": 21,
   "id": "4c75334c-eba1-4a61-9e52-ef1ed8d43ab7",
   "metadata": {},
   "outputs": [
    {
     "data": {
      "text/plain": [
       "'Hello\\nworld\\n!\\n'"
      ]
     },
     "execution_count": 21,
     "metadata": {},
     "output_type": "execute_result"
    }
   ],
   "source": [
    "file1.read()"
   ]
  },
  {
   "cell_type": "code",
   "execution_count": null,
   "id": "0269af52-1004-4534-aa0f-322e859d5825",
   "metadata": {},
   "outputs": [],
   "source": []
  }
 ],
 "metadata": {
  "kernelspec": {
   "display_name": "Python 3 (ipykernel)",
   "language": "python",
   "name": "python3"
  },
  "language_info": {
   "codemirror_mode": {
    "name": "ipython",
    "version": 3
   },
   "file_extension": ".py",
   "mimetype": "text/x-python",
   "name": "python",
   "nbconvert_exporter": "python",
   "pygments_lexer": "ipython3",
   "version": "3.10.8"
  }
 },
 "nbformat": 4,
 "nbformat_minor": 5
}
